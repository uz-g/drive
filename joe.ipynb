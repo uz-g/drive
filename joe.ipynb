{
 "cells": [
  {
   "cell_type": "code",
   "execution_count": 5,
   "metadata": {},
   "outputs": [
    {
     "name": "stdout",
     "output_type": "stream",
     "text": [
      "[{'address_components': [{'long_name': 'Google Building 40', 'short_name': 'Google Building 40', 'types': ['premise']}, {'long_name': '1600', 'short_name': '1600', 'types': ['street_number']}, {'long_name': 'Amphitheatre Parkway', 'short_name': 'Amphitheatre Pkwy', 'types': ['route']}, {'long_name': 'Mountain View', 'short_name': 'Mountain View', 'types': ['locality', 'political']}, {'long_name': 'Santa Clara County', 'short_name': 'Santa Clara County', 'types': ['administrative_area_level_2', 'political']}, {'long_name': 'California', 'short_name': 'CA', 'types': ['administrative_area_level_1', 'political']}, {'long_name': 'United States', 'short_name': 'US', 'types': ['country', 'political']}, {'long_name': '94043', 'short_name': '94043', 'types': ['postal_code']}], 'formatted_address': 'Google Building 40, 1600 Amphitheatre Pkwy, Mountain View, CA 94043, USA', 'geometry': {'bounds': {'northeast': {'lat': 37.4226618, 'lng': -122.0829302}, 'southwest': {'lat': 37.4220699, 'lng': -122.084958}}, 'location': {'lat': 37.4223878, 'lng': -122.0841877}, 'location_type': 'ROOFTOP', 'viewport': {'northeast': {'lat': 37.42365228029151, 'lng': -122.0825951197085}, 'southwest': {'lat': 37.42095431970851, 'lng': -122.0852930802915}}}, 'place_id': 'ChIJj38IfwK6j4ARNcyPDnEGa9g', 'types': ['premise']}]\n"
     ]
    }
   ],
   "source": [
    "import googlemaps\n",
    "from datetime import datetime\n",
    "import os\n",
    "\n",
    "GOOGLE_API_KEY = os.getenv('GOOGLE_API_KEY')\n",
    "gmaps = googlemaps.Client(key=GOOGLE_API_KEY)\n",
    "\n",
    "# Geocoding an address\n",
    "geocode_result = gmaps.geocode('1600 Amphitheatre Parkway, Mountain View, CA')\n",
    "\n",
    "#uz.b.test\n",
    "print(geocode_result)\n",
    "# Look up an address with reverse geocoding\n",
    "reverse_geocode_result = gmaps.reverse_geocode((40.714224, -73.961452))\n",
    "\n",
    "# Request directions via public transit\n",
    "now = datetime.now()\n",
    "directions_result = gmaps.directions(\"Sydney Town Hall\",\n",
    "                                     \"Parramatta, NSW\",\n",
    "                                     mode=\"transit\",\n",
    "                                     departure_time=now)\n",
    "\n",
    "# Validate an address with address validation\n",
    "addressvalidation_result =  gmaps.addressvalidation(['1600 Amphitheatre Pk'], \n",
    "                                                    regionCode='US',\n",
    "                                                    locality='Mountain View', \n",
    "                                                    enableUspsCass=True)"
   ]
  },
  {
   "cell_type": "code",
   "execution_count": 2,
   "metadata": {},
   "outputs": [
    {
     "data": {
      "text/plain": [
       "[]"
      ]
     },
     "execution_count": 2,
     "metadata": {},
     "output_type": "execute_result"
    }
   ],
   "source": [
    "gmaps.geocode('Independence High School, Learning Circle')\n"
   ]
  },
  {
   "cell_type": "code",
   "execution_count": 3,
   "metadata": {},
   "outputs": [],
   "source": [
    "\n",
    "def get_directions(origin, destination, mode='driving'):\n",
    "    now = datetime.now()\n",
    "    directions_result = gmaps.directions(origin, destination, mode=mode, departure_time=now)\n",
    "    return directions_result\n",
    "\n",
    "def print_directions(steps):\n",
    "    for i, step in enumerate(steps, start=1):\n",
    "        print(f\"Step {i}: {step['html_instructions']}\")\n",
    "\n",
    "\n"
   ]
  },
  {
   "cell_type": "code",
   "execution_count": 4,
   "metadata": {},
   "outputs": [
    {
     "name": "stdout",
     "output_type": "stream",
     "text": [
      "Directions from Ashburn, Virginia, USA to Ashburn Village, Virginia, USA (driving):\n",
      "Step 1: Head <b>north</b> on <b>State Rte 641</b>/<wbr/><b>Ashburn Rd</b> toward <b>Washington and Old Dominion Trail</b>\n",
      "Step 2: Turn <b>right</b> onto <b>Gloucester Pkwy</b>\n",
      "Step 3: Turn <b>left</b> onto <b>Ashburn Shopping Plz</b>\n",
      "Step 4: Turn <b>right</b> to stay on <b>Ashburn Shopping Plz</b>\n",
      "Step 5: Turn <b>left</b><div style=\"font-size:0.9em\">Destination will be on the right</div>\n"
     ]
    }
   ],
   "source": [
    "if __name__ == \"__main__\":\n",
    "    # Example: Get directions from Sydney Town Hall to Parramatta, NSW for driving\n",
    "    origin_location = \"Ashburn, Virginia, USA\"\n",
    "    destination_location = \"Ashburn Village, Virginia, USA\"\n",
    "    travel_mode = \"driving\"\n",
    "\n",
    "    directions_result = get_directions(origin_location, destination_location, mode=travel_mode)\n",
    "\n",
    "    if directions_result:\n",
    "        # Access the first route in the directions result\n",
    "        first_route = directions_result[0]\n",
    "\n",
    "        # Access the steps of the route\n",
    "        steps = first_route['legs'][0]['steps']\n",
    "\n",
    "        print(f\"Directions from {origin_location} to {destination_location} ({travel_mode}):\")\n",
    "        print_directions(steps)\n",
    "    else:\n",
    "        print(\"Error: Unable to retrieve directions.\")"
   ]
  }
 ],
 "metadata": {
  "kernelspec": {
   "display_name": "Python 3 (ipykernel)",
   "language": "python",
   "name": "python3"
  },
  "language_info": {
   "codemirror_mode": {
    "name": "ipython",
    "version": 3
   },
   "file_extension": ".py",
   "mimetype": "text/x-python",
   "name": "python",
   "nbconvert_exporter": "python",
   "pygments_lexer": "ipython3",
   "version": "3.10.12"
  }
 },
 "nbformat": 4,
 "nbformat_minor": 4
}
